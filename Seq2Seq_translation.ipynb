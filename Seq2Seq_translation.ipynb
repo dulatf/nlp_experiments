{
  "nbformat": 4,
  "nbformat_minor": 0,
  "metadata": {
    "colab": {
      "name": "Seq2Seq translation",
      "version": "0.3.2",
      "provenance": [],
      "include_colab_link": true
    },
    "kernelspec": {
      "name": "python3",
      "display_name": "Python 3"
    },
    "accelerator": "GPU"
  },
  "cells": [
    {
      "cell_type": "markdown",
      "metadata": {
        "id": "view-in-github",
        "colab_type": "text"
      },
      "source": [
        "<a href=\"https://colab.research.google.com/github/dulatf/nlp_experiments/blob/master/Seq2Seq_translation.ipynb\" target=\"_parent\"><img src=\"https://colab.research.google.com/assets/colab-badge.svg\" alt=\"Open In Colab\"/></a>"
      ]
    },
    {
      "metadata": {
        "id": "zodPJNT3TsLv",
        "colab_type": "code",
        "outputId": "4094e0d7-b0bf-4f1c-ebce-20401fc79eb1",
        "colab": {
          "base_uri": "https://localhost:8080/",
          "height": 88
        }
      },
      "cell_type": "code",
      "source": [
        "# make sure we have the alpha version of tensorflow 2.0 ready to go in this\n",
        "# Collab instance\n",
        "!pip install -q tensorflow-gpu==2.0.0-alpha0"
      ],
      "execution_count": 2,
      "outputs": [
        {
          "output_type": "stream",
          "text": [
            "\u001b[K     |████████████████████████████████| 332.1MB 36kB/s \n",
            "\u001b[K     |████████████████████████████████| 61kB 26.3MB/s \n",
            "\u001b[K     |████████████████████████████████| 419kB 52.7MB/s \n",
            "\u001b[K     |████████████████████████████████| 3.0MB 49.2MB/s \n",
            "\u001b[?25h"
          ],
          "name": "stdout"
        }
      ]
    },
    {
      "metadata": {
        "id": "08ShAZk6iMcH",
        "colab_type": "code",
        "outputId": "d0c0930b-f766-4fc3-fba5-e97513377802",
        "colab": {
          "base_uri": "https://localhost:8080/",
          "height": 160
        }
      },
      "cell_type": "code",
      "source": [
        "# manually download the translation data file\n",
        "!curl -O http://www.manythings.org/anki/deu-eng.zip\n",
        "!mkdir deu-eng\n",
        "%cd /content/deu-eng\n",
        "!unzip ../deu-eng.zip\n",
        "%cd /content"
      ],
      "execution_count": 3,
      "outputs": [
        {
          "output_type": "stream",
          "text": [
            "  % Total    % Received % Xferd  Average Speed   Time    Time     Time  Current\n",
            "                                 Dload  Upload   Total   Spent    Left  Speed\n",
            "100 4375k  100 4375k    0     0  9532k      0 --:--:-- --:--:-- --:--:-- 9532k\n",
            "/content/deu-eng\n",
            "Archive:  ../deu-eng.zip\n",
            "  inflating: deu.txt                 \n",
            "  inflating: _about.txt              \n",
            "/content\n"
          ],
          "name": "stdout"
        }
      ]
    },
    {
      "metadata": {
        "id": "Ml_aL6AEeDa1",
        "colab_type": "code",
        "colab": {}
      },
      "cell_type": "code",
      "source": [
        "import tensorflow as tf # tensorflow of course\n",
        "tf.debugging.set_log_device_placement(True)\n",
        "import io # io to read in our file\n",
        "import re # we use regexp to replace unwated characters in the text\n",
        "import unicodedata # input text might be unicode, we use this to convert to ascii\n",
        "from sklearn.model_selection import train_test_split # we use this to split into training and test\n",
        "import time\n",
        "import os\n",
        "import matplotlib\n",
        "import matplotlib.pyplot as plt\n",
        "import numpy as np"
      ],
      "execution_count": 0,
      "outputs": []
    },
    {
      "metadata": {
        "id": "aAjTDKZnh4Xy",
        "colab_type": "code",
        "colab": {}
      },
      "cell_type": "code",
      "source": [
        "# helper function to convert unicode characters to ascii, replaces ü with u etc\n",
        "def unicode_to_ascii(w):\n",
        "    return ''.join(c for c in unicodedata.normalize('NFD', w) if unicodedata.category(c) != 'Mn')\n",
        "# convert the incoming text to ascii, surround punctuation marks with spaces,\n",
        "# remove multiple spaces and surround sentences with <start> <end> markers\n",
        "def process_text(text):\n",
        "    w = unicode_to_ascii(text.lower().strip())\n",
        "    w = re.sub(r\"([?.!,¿])\", r\" \\1 \", w)\n",
        "    w = re.sub(r'[\" \"]+', \" \", w)\n",
        "    w = re.sub(r'[^a-zA-Z?.!,¿]+', ' ', w)\n",
        "    w = w.rstrip().strip()\n",
        "    return '<start> ' + w + ' <end>'\n",
        "# input and target language sentences are separated by a tab, split and process\n",
        "def load_dataset(path, num_examples=None):\n",
        "    lines = io.open(path, encoding='UTF-8').read().strip().split('\\n')\n",
        "    if num_examples == None:\n",
        "        print(\"Loading {} examples from the dataset.\".format(len(lines)))\n",
        "    return zip(*[[process_text(w) for w in l.split('\\t')] for l in lines[:num_examples]])"
      ],
      "execution_count": 0,
      "outputs": []
    },
    {
      "metadata": {
        "id": "VQhjzvCwrOJz",
        "colab_type": "code",
        "colab": {}
      },
      "cell_type": "code",
      "source": [
        "# we use Keras' preprocessing library to embed the text\n",
        "# no magic is happening here, this just tokenizes the text by splitting on spaces\n",
        "# then it creates a dictionary by counting word frequencies\n",
        "# afterwards the words are mapped to integers (ordered by frequency) that we can\n",
        "# then use in our model\n",
        "def tokenize(text):\n",
        "    tokenizer = tf.keras.preprocessing.text.Tokenizer(filters='')\n",
        "    tokenizer.fit_on_texts(text)\n",
        "    sequences = tokenizer.texts_to_sequences(text)\n",
        "    sequences = tf.keras.preprocessing.sequence.pad_sequences(sequences, padding='post')\n",
        "    return sequences, tokenizer\n",
        "\n",
        "# load the dataset and tokenize\n",
        "def prepare_dataset(path, num_examples=None):\n",
        "    target_lang, input_lang = load_dataset(path, num_examples)\n",
        "    input_tensor, input_lang_tokenizer = tokenize(input_lang)\n",
        "    target_tensor, target_lang_tokenizer = tokenize(target_lang)\n",
        "    \n",
        "    return input_tensor, target_tensor, input_lang_tokenizer, target_lang_tokenizer\n",
        "\n",
        "# helper function to check length of elements in tensor (sentences)\n",
        "def max_length(tensor):\n",
        "    return max([len(t) for t in tensor])"
      ],
      "execution_count": 0,
      "outputs": []
    },
    {
      "metadata": {
        "id": "-J3HebZrvpko",
        "colab_type": "code",
        "colab": {}
      },
      "cell_type": "code",
      "source": [
        "input_tensor, target_tensor, input_lang_tokenizer, target_lang_tokenizer = prepare_dataset('/content/deu-eng/deu.txt',10000)"
      ],
      "execution_count": 0,
      "outputs": []
    },
    {
      "metadata": {
        "id": "o7WHIUvJVeyF",
        "colab_type": "code",
        "outputId": "3298d290-319a-4957-c99b-4220b8533ce7",
        "colab": {
          "base_uri": "https://localhost:8080/",
          "height": 71
        }
      },
      "cell_type": "code",
      "source": [
        "max_length_target, max_length_input = max_length(target_tensor), max_length(input_tensor)\n",
        "print('Max length input: {}\\nMax length target: {}\\n'.format(max_length_input, max_length_target))"
      ],
      "execution_count": 8,
      "outputs": [
        {
          "output_type": "stream",
          "text": [
            "Max length input: 14\n",
            "Max length target: 9\n",
            "\n"
          ],
          "name": "stdout"
        }
      ]
    },
    {
      "metadata": {
        "id": "iYA5gzClWriD",
        "colab_type": "code",
        "outputId": "bc616287-e5ee-4ba5-eca2-44534ccaffe3",
        "colab": {
          "base_uri": "https://localhost:8080/",
          "height": 106
        }
      },
      "cell_type": "code",
      "source": [
        "# split into training and test set\n",
        "input_tensor_train, input_tensor_val, target_tensor_train, target_tensor_val = train_test_split(input_tensor, target_tensor, test_size=0.2)\n",
        "print('Input train #: {}\\nTarget train #: {}\\nInput val #: {}\\nTarget val #: {}\\n'.format(len(input_tensor_train), len(target_tensor_train), len(input_tensor_val), len(target_tensor_val)))"
      ],
      "execution_count": 9,
      "outputs": [
        {
          "output_type": "stream",
          "text": [
            "Input train #: 8000\n",
            "Target train #: 8000\n",
            "Input val #: 2000\n",
            "Target val #: 2000\n",
            "\n"
          ],
          "name": "stdout"
        }
      ]
    },
    {
      "metadata": {
        "id": "ZSEzvvSKWx4v",
        "colab_type": "code",
        "outputId": "4c0f6318-88bb-4454-cad9-69dabc155441",
        "colab": {
          "base_uri": "https://localhost:8080/",
          "height": 553
        }
      },
      "cell_type": "code",
      "source": [
        "# look up and print the actual words for a sequence of embedding integers\n",
        "def wordify(tokenizer, tensor):\n",
        "    for t in tensor:\n",
        "        if t != 0:\n",
        "            print('{} ----> {}\\n'.format(t, tokenizer.index_word[t]))\n",
        "wordify(input_lang_tokenizer, input_tensor_train[0])\n",
        "wordify(target_lang_tokenizer, target_tensor_train[0])"
      ],
      "execution_count": 10,
      "outputs": [
        {
          "output_type": "stream",
          "text": [
            "1 ----> <start>\n",
            "\n",
            "29 ----> wer\n",
            "\n",
            "17 ----> hat\n",
            "\n",
            "166 ----> nichts\n",
            "\n",
            "22 ----> zu\n",
            "\n",
            "84 ----> tun\n",
            "\n",
            "8 ----> ?\n",
            "\n",
            "2 ----> <end>\n",
            "\n",
            "1 ----> <start>\n",
            "\n",
            "30 ----> who\n",
            "\n",
            "9 ----> s\n",
            "\n",
            "45 ----> not\n",
            "\n",
            "69 ----> busy\n",
            "\n",
            "7 ----> ?\n",
            "\n",
            "2 ----> <end>\n",
            "\n"
          ],
          "name": "stdout"
        }
      ]
    },
    {
      "metadata": {
        "id": "HnPONjyHbaE2",
        "colab_type": "code",
        "outputId": "7ad496d0-aa1a-4bf8-856b-59c14e776d8f",
        "colab": {
          "base_uri": "https://localhost:8080/",
          "height": 35
        }
      },
      "cell_type": "code",
      "source": [
        "# next we create a tf.Dataset so tensorflow can consume our prepared data\n",
        "BATCH_SIZE = 16\n",
        "steps_per_epoch = len(input_tensor_train)//BATCH_SIZE\n",
        "dataset = tf.data.Dataset.from_tensor_slices((input_tensor_train, target_tensor_train)).shuffle(len(input_tensor_train))\n",
        "dataset = dataset.batch(BATCH_SIZE, drop_remainder=True)\n",
        "vocab_input_size = len(input_lang_tokenizer.word_index)+1\n",
        "vocab_target_size = len(target_lang_tokenizer.word_index)+1\n",
        "EMBEDDING_DIM = 256\n",
        "ENCODER_UNITS = 1024\n",
        "vocab_input_size, vocab_target_size"
      ],
      "execution_count": 11,
      "outputs": [
        {
          "output_type": "execute_result",
          "data": {
            "text/plain": [
              "(3519, 2191)"
            ]
          },
          "metadata": {
            "tags": []
          },
          "execution_count": 11
        }
      ]
    },
    {
      "metadata": {
        "id": "NL_XohxRcrmp",
        "colab_type": "code",
        "outputId": "3cf8eb25-2944-403d-a5b9-9ad779fb8a0d",
        "colab": {
          "base_uri": "https://localhost:8080/",
          "height": 35
        }
      },
      "cell_type": "code",
      "source": [
        "a, b = next(iter(dataset))\n",
        "a.shape, b.shape"
      ],
      "execution_count": 12,
      "outputs": [
        {
          "output_type": "execute_result",
          "data": {
            "text/plain": [
              "(TensorShape([16, 14]), TensorShape([16, 9]))"
            ]
          },
          "metadata": {
            "tags": []
          },
          "execution_count": 12
        }
      ]
    },
    {
      "metadata": {
        "id": "ho0u2-uHc5lg",
        "colab_type": "code",
        "colab": {}
      },
      "cell_type": "code",
      "source": [
        "# at this point our dataset is ready to be consumed by our model ... which we have to build next\n",
        "# first we start with the encoder part,\n",
        "# this is a set of GRUs that encode the input sequence "
      ],
      "execution_count": 0,
      "outputs": []
    },
    {
      "metadata": {
        "id": "n3u4Jlk2-1pY",
        "colab_type": "code",
        "colab": {}
      },
      "cell_type": "code",
      "source": [
        "class Encoder(tf.keras.Model):\n",
        "    def __init__(self, vocab_size, embedding_dim, enc_units, batch_size):\n",
        "        super(Encoder, self).__init__()\n",
        "        self.batch_size = batch_size\n",
        "        self.enc_units = enc_units\n",
        "        self.embedding = tf.keras.layers.Embedding(vocab_size, embedding_dim)\n",
        "        self.gru = tf.keras.layers.GRU(self.enc_units,\n",
        "                                       return_sequences=True,\n",
        "                                       return_state=True,\n",
        "                                       recurrent_initializer='glorot_uniform')\n",
        "    def call(self, x, hidden):\n",
        "        x = self.embedding(x)\n",
        "        output, state = self.gru(x, initial_state=hidden)\n",
        "        return output, state\n",
        "    def initialize_hidden_state(self):\n",
        "        return tf.zeros((self.batch_size, self.enc_units))"
      ],
      "execution_count": 0,
      "outputs": []
    },
    {
      "metadata": {
        "id": "wqQe8u4DG_Zg",
        "colab_type": "code",
        "colab": {}
      },
      "cell_type": "code",
      "source": [
        "encoder = Encoder(vocab_input_size, EMBEDDING_DIM, ENCODER_UNITS, BATCH_SIZE)\n",
        "sample_hidden = encoder.initialize_hidden_state()\n",
        "sample_input_batch, sample_target_batch = next(iter(dataset))\n",
        "sample_output, sample_hidden = encoder(sample_input_batch, sample_hidden)"
      ],
      "execution_count": 0,
      "outputs": []
    },
    {
      "metadata": {
        "id": "hwJOkxXbHUW6",
        "colab_type": "code",
        "outputId": "1c4b0b82-82cd-4818-e89e-547adacf910c",
        "colab": {
          "base_uri": "https://localhost:8080/",
          "height": 35
        }
      },
      "cell_type": "code",
      "source": [
        "sample_input_batch.shape, sample_output.shape"
      ],
      "execution_count": 16,
      "outputs": [
        {
          "output_type": "execute_result",
          "data": {
            "text/plain": [
              "(TensorShape([16, 14]), TensorShape([16, 14, 1024]))"
            ]
          },
          "metadata": {
            "tags": []
          },
          "execution_count": 16
        }
      ]
    },
    {
      "metadata": {
        "id": "xM0_FP2qHZx6",
        "colab_type": "code",
        "colab": {}
      },
      "cell_type": "code",
      "source": [
        "class AttentionModel(tf.keras.Model):\n",
        "    def __init__(self, units):\n",
        "        super(AttentionModel,self).__init__()\n",
        "        self.W1 = tf.keras.layers.Dense(units)\n",
        "        self.W2 = tf.keras.layers.Dense(units)\n",
        "        self.V = tf.keras.layers.Dense(1)\n",
        "    def call(self, query, values):\n",
        "        hidden_expanded = tf.expand_dims(query, 1) # turn (a,b) tensor into (a,1,b)\n",
        "        score = self.V(tf.nn.tanh(self.W1(values) + self.W2(hidden_expanded)))\n",
        "        attention_weights = tf.nn.softmax(score, axis=1)\n",
        "        context_vector = attention_weights * values\n",
        "        context_vector = tf.reduce_sum(context_vector, axis=1)\n",
        "        \n",
        "        return context_vector, attention_weights"
      ],
      "execution_count": 0,
      "outputs": []
    },
    {
      "metadata": {
        "id": "6didJgfnEidi",
        "colab_type": "code",
        "colab": {}
      },
      "cell_type": "code",
      "source": [
        "attention_layer = AttentionModel(10)\n",
        "attention_result, attention_weights = attention_layer(sample_hidden, sample_output)"
      ],
      "execution_count": 0,
      "outputs": []
    },
    {
      "metadata": {
        "id": "drqv00YOEyKO",
        "colab_type": "code",
        "colab": {
          "base_uri": "https://localhost:8080/",
          "height": 35
        },
        "outputId": "b0c9ee13-0d49-41c5-a16d-6356c601c4f9"
      },
      "cell_type": "code",
      "source": [
        "attention_result.shape, attention_weights.shape"
      ],
      "execution_count": 19,
      "outputs": [
        {
          "output_type": "execute_result",
          "data": {
            "text/plain": [
              "(TensorShape([16, 1024]), TensorShape([16, 14, 1]))"
            ]
          },
          "metadata": {
            "tags": []
          },
          "execution_count": 19
        }
      ]
    },
    {
      "metadata": {
        "id": "F-WzV_5fE_V2",
        "colab_type": "code",
        "colab": {}
      },
      "cell_type": "code",
      "source": [
        "class Decoder(tf.keras.Model):\n",
        "    def __init__(self, vocab_size, embedding_dim, dec_units, batch_size):\n",
        "        super(Decoder, self).__init__()\n",
        "        self.batch_size = batch_size\n",
        "        self.dec_units = dec_units\n",
        "        self.embedding = tf.keras.layers.Embedding(vocab_size, embedding_dim)\n",
        "        self.gru = tf.keras.layers.GRU(self.dec_units,\n",
        "                                       return_sequences=True,\n",
        "                                       return_state=True,\n",
        "                                       recurrent_initializer='glorot_uniform')\n",
        "        self.fc = tf.keras.layers.Dense(vocab_size)\n",
        "        self.attention = AttentionModel(self.dec_units)\n",
        "        \n",
        "    def call(self, x, hidden, enc_output):\n",
        "        context_vector, attention_weights = self.attention(hidden, enc_output)\n",
        "        x = self.embedding(x)\n",
        "        \n",
        "        x = tf.concat([tf.expand_dims(context_vector, 1), x], axis=-1)\n",
        "        output, state = self.gru(x)\n",
        "        \n",
        "        output = tf.reshape(output, (-1, output.shape[2]))\n",
        "        \n",
        "        x = self.fc(output)\n",
        "        return x, state, attention_weights"
      ],
      "execution_count": 0,
      "outputs": []
    },
    {
      "metadata": {
        "id": "vOLFLFLKls-9",
        "colab_type": "code",
        "colab": {}
      },
      "cell_type": "code",
      "source": [
        ""
      ],
      "execution_count": 0,
      "outputs": []
    },
    {
      "metadata": {
        "id": "zDSUiMx4NXmx",
        "colab_type": "code",
        "colab": {}
      },
      "cell_type": "code",
      "source": [
        "decoder = Decoder(vocab_input_size, EMBEDDING_DIM, ENCODER_UNITS, BATCH_SIZE)"
      ],
      "execution_count": 0,
      "outputs": []
    },
    {
      "metadata": {
        "id": "aev4lvuZRDa6",
        "colab_type": "code",
        "colab": {}
      },
      "cell_type": "code",
      "source": [
        "sample_decoder_output, _, _  = decoder(tf.random.uniform((BATCH_SIZE,1)), sample_hidden, sample_output)"
      ],
      "execution_count": 0,
      "outputs": []
    },
    {
      "metadata": {
        "id": "aQvsnNwdRPMF",
        "colab_type": "code",
        "colab": {
          "base_uri": "https://localhost:8080/",
          "height": 35
        },
        "outputId": "3b5cabbd-679e-4f4c-8b3c-0144060b762c"
      },
      "cell_type": "code",
      "source": [
        "sample_decoder_output.shape"
      ],
      "execution_count": 24,
      "outputs": [
        {
          "output_type": "execute_result",
          "data": {
            "text/plain": [
              "TensorShape([16, 3519])"
            ]
          },
          "metadata": {
            "tags": []
          },
          "execution_count": 24
        }
      ]
    },
    {
      "metadata": {
        "id": "J0s69cG8RSiW",
        "colab_type": "code",
        "colab": {
          "base_uri": "https://localhost:8080/",
          "height": 35
        },
        "outputId": "c53781e2-3f19-47f6-a7ec-51fba6047dd8"
      },
      "cell_type": "code",
      "source": [
        "tf.math.logical_not(tf.math.equal(tf.constant([0,1,0]),0))"
      ],
      "execution_count": 25,
      "outputs": [
        {
          "output_type": "execute_result",
          "data": {
            "text/plain": [
              "<tf.Tensor: id=614, shape=(3,), dtype=bool, numpy=array([False,  True, False])>"
            ]
          },
          "metadata": {
            "tags": []
          },
          "execution_count": 25
        }
      ]
    },
    {
      "metadata": {
        "id": "6SJsZ9zmRjmT",
        "colab_type": "code",
        "colab": {}
      },
      "cell_type": "code",
      "source": [
        "# now we can define an optimizer and the loss function\n",
        "optimizer = tf.keras.optimizers.Adam()\n",
        "loss_object = tf.keras.losses.SparseCategoricalCrossentropy(from_logits=True,\n",
        "                                                            reduction='none')\n",
        "def loss_func(real, pred):\n",
        "    mask = tf.math.logical_not(tf.math.equal(real, 0))\n",
        "    lossy = loss_object(real, pred)\n",
        "    mask = tf.cast(mask, dtype=lossy.dtype)\n",
        "    lossy *= mask\n",
        "    return tf.reduce_mean(lossy)\n",
        "CHECKPOINT_DIR = './training_checkpoints'\n",
        "checkpoint_prefix = os.path.join(CHECKPOINT_DIR,'ckpt')\n",
        "checkpoint = tf.train.Checkpoint(optimizer=optimizer,\n",
        "                                 encoder=encoder,\n",
        "                                 decoder=decoder)\n"
      ],
      "execution_count": 0,
      "outputs": []
    },
    {
      "metadata": {
        "id": "pCeeo7lPUO4E",
        "colab_type": "code",
        "colab": {}
      },
      "cell_type": "code",
      "source": [
        "# now we define the training loop\n",
        "@tf.function\n",
        "def train_step(inp, targ, enc_hidden):\n",
        "    loss = 0\n",
        "    with tf.GradientTape() as tape:\n",
        "        enc_output, enc_hidden = encoder(inp, enc_hidden)\n",
        "        dec_hidden = enc_hidden\n",
        "        dec_input = tf.expand_dims([target_lang_tokenizer.word_index['<start>']]*BATCH_SIZE,1)\n",
        "        for t in range(1, targ.shape[1]):\n",
        "            predictions, dec_hidden, _ = decoder(dec_input,\n",
        "                                                 dec_hidden,\n",
        "                                                 enc_output)\n",
        "            loss += loss_func(targ[:, t], predictions)\n",
        "            dec_input = tf.expand_dims(targ[:, t], 1)\n",
        "    batch_loss = (loss / int(targ.shape[1]))\n",
        "    \n",
        "    variables = encoder.trainable_variables + decoder.trainable_variables\n",
        "    gradients = tape.gradient(loss, variables)\n",
        "    optimizer.apply_gradients(zip(gradients,variables))\n",
        "    return batch_loss"
      ],
      "execution_count": 0,
      "outputs": []
    },
    {
      "metadata": {
        "id": "tx1il5tMVamG",
        "colab_type": "code",
        "colab": {
          "base_uri": "https://localhost:8080/",
          "height": 1446
        },
        "outputId": "88de789a-07c1-4109-d5ea-7e5d223dd096"
      },
      "cell_type": "code",
      "source": [
        "EPOCHS = 10\n",
        "for epoch in range(EPOCHS):\n",
        "    start = time.time()\n",
        "    enc_hidden = encoder.initialize_hidden_state()\n",
        "    total_loss = 0\n",
        "    for (batch, (inp, targ)) in enumerate(dataset.take(steps_per_epoch)):\n",
        "        batch_loss = train_step(inp, targ, enc_hidden)\n",
        "        total_loss += batch_loss\n",
        "        if batch % 100 == 0:\n",
        "            print('Epoch {} Batch {} Loss {:.4f}'.format(epoch+1,\n",
        "                                                         batch,\n",
        "                                                         batch_loss.numpy()))\n",
        "    if (epoch + 1) % 2 == 0:\n",
        "        checkpoint.save(file_prefix=checkpoint_prefix)\n",
        "    \n",
        "    print('Epoch {} Loss {:.4f}'.format(epoch+1, total_loss/steps_per_epoch))\n",
        "    print('Time taken for 1 epoch {} sec\\n'.format(time.time()-start))"
      ],
      "execution_count": 33,
      "outputs": [
        {
          "output_type": "stream",
          "text": [
            "Epoch 1 Batch 0 Loss 0.0538\n",
            "Epoch 1 Batch 100 Loss 0.0562\n",
            "Epoch 1 Batch 200 Loss 0.0498\n",
            "Epoch 1 Batch 300 Loss 0.0449\n",
            "Epoch 1 Batch 400 Loss 0.0879\n",
            "Epoch 1 Loss 0.0737\n",
            "Time taken for 1 epoch 26.391298055648804 sec\n",
            "\n",
            "Epoch 2 Batch 0 Loss 0.0558\n",
            "Epoch 2 Batch 100 Loss 0.0598\n",
            "Epoch 2 Batch 200 Loss 0.0613\n",
            "Epoch 2 Batch 300 Loss 0.0442\n",
            "Epoch 2 Batch 400 Loss 0.0175\n",
            "Epoch 2 Loss 0.0601\n",
            "Time taken for 1 epoch 26.60215711593628 sec\n",
            "\n",
            "Epoch 3 Batch 0 Loss 0.0229\n",
            "Epoch 3 Batch 100 Loss 0.0354\n",
            "Epoch 3 Batch 200 Loss 0.0746\n",
            "Epoch 3 Batch 300 Loss 0.0518\n",
            "Epoch 3 Batch 400 Loss 0.0284\n",
            "Epoch 3 Loss 0.0552\n",
            "Time taken for 1 epoch 26.02177143096924 sec\n",
            "\n",
            "Epoch 4 Batch 0 Loss 0.0202\n",
            "Epoch 4 Batch 100 Loss 0.0349\n",
            "Epoch 4 Batch 200 Loss 0.0112\n",
            "Epoch 4 Batch 300 Loss 0.1128\n",
            "Epoch 4 Batch 400 Loss 0.0499\n",
            "Epoch 4 Loss 0.0521\n",
            "Time taken for 1 epoch 26.89323115348816 sec\n",
            "\n",
            "Epoch 5 Batch 0 Loss 0.0300\n",
            "Epoch 5 Batch 100 Loss 0.0280\n",
            "Epoch 5 Batch 200 Loss 0.0615\n",
            "Epoch 5 Batch 300 Loss 0.0288\n",
            "Epoch 5 Batch 400 Loss 0.0624\n",
            "Epoch 5 Loss 0.0537\n",
            "Time taken for 1 epoch 26.266663074493408 sec\n",
            "\n",
            "Epoch 6 Batch 0 Loss 0.0384\n",
            "Epoch 6 Batch 100 Loss 0.0725\n",
            "Epoch 6 Batch 200 Loss 0.0261\n",
            "Epoch 6 Batch 300 Loss 0.0747\n",
            "Epoch 6 Batch 400 Loss 0.0336\n",
            "Epoch 6 Loss 0.0514\n",
            "Time taken for 1 epoch 26.60835838317871 sec\n",
            "\n",
            "Epoch 7 Batch 0 Loss 0.0092\n",
            "Epoch 7 Batch 100 Loss 0.1027\n",
            "Epoch 7 Batch 200 Loss 0.0231\n",
            "Epoch 7 Batch 300 Loss 0.0732\n",
            "Epoch 7 Batch 400 Loss 0.0469\n",
            "Epoch 7 Loss 0.0490\n",
            "Time taken for 1 epoch 26.50061297416687 sec\n",
            "\n",
            "Epoch 8 Batch 0 Loss 0.0308\n",
            "Epoch 8 Batch 100 Loss 0.0490\n",
            "Epoch 8 Batch 200 Loss 0.0246\n",
            "Epoch 8 Batch 300 Loss 0.0971\n",
            "Epoch 8 Batch 400 Loss 0.0442\n",
            "Epoch 8 Loss 0.0417\n",
            "Time taken for 1 epoch 26.422825574874878 sec\n",
            "\n",
            "Epoch 9 Batch 0 Loss 0.0310\n",
            "Epoch 9 Batch 100 Loss 0.0365\n",
            "Epoch 9 Batch 200 Loss 0.0155\n",
            "Epoch 9 Batch 300 Loss 0.1093\n",
            "Epoch 9 Batch 400 Loss 0.0687\n",
            "Epoch 9 Loss 0.0395\n",
            "Time taken for 1 epoch 25.94796347618103 sec\n",
            "\n",
            "Epoch 10 Batch 0 Loss 0.0364\n",
            "Epoch 10 Batch 100 Loss 0.0481\n",
            "Epoch 10 Batch 200 Loss 0.0193\n",
            "Epoch 10 Batch 300 Loss 0.0856\n",
            "Epoch 10 Batch 400 Loss 0.0461\n",
            "Epoch 10 Loss 0.0432\n",
            "Time taken for 1 epoch 27.104912281036377 sec\n",
            "\n"
          ],
          "name": "stdout"
        }
      ]
    },
    {
      "metadata": {
        "id": "l8jRh5UIVcEI",
        "colab_type": "code",
        "colab": {}
      },
      "cell_type": "code",
      "source": [
        "def evaluate(sentence):\n",
        "    attention_plot = np.zeros((max_length_target, max_length_input))\n",
        "    sentence = process_text(sentence)\n",
        "    \n",
        "    inputs = [input_lang_tokenizer.word_index[i] for i in sentence.split(' ')]\n",
        "    inputs = tf.keras.preprocessing.sequence.pad_sequences([inputs],\n",
        "                                                           maxlen=max_length_input,\n",
        "                                                           padding='post')\n",
        "    inputs = tf.convert_to_tensor(inputs)\n",
        "    \n",
        "    result = ''\n",
        "    \n",
        "    hidden = [tf.zeros((1, ENCODER_UNITS))]\n",
        "    enc_out, enc_hidden = encoder(inputs, hidden)\n",
        "    dec_hidden = enc_hidden\n",
        "    dec_input = tf.expand_dims([target_lang_tokenizer.word_index['<start>']], 0)\n",
        "    for t in range(max_length_target):\n",
        "        predictions, dec_hidden, attention_weights = decoder(dec_input,\n",
        "                                                             dec_hidden,\n",
        "                                                             enc_out)\n",
        "        attention_weights = tf.reshape(attention_weights, (-1,))\n",
        "        attention_plot[t] = attention_weights.numpy()\n",
        "        predicted_id = tf.argmax(predictions[0]).numpy()\n",
        "        result += target_lang_tokenizer.index_word[predicted_id] + ' '\n",
        "        if target_lang_tokenizer.index_word[predicted_id] == '<end>':\n",
        "            return result, sentence, attention_plot\n",
        "        \n",
        "        dec_input = tf.expand_dims([predicted_id], 0)\n",
        "    return result, sentence, attention_plot"
      ],
      "execution_count": 0,
      "outputs": []
    },
    {
      "metadata": {
        "id": "giDRqhxTeork",
        "colab_type": "code",
        "colab": {}
      },
      "cell_type": "code",
      "source": [
        "def plot_attention(attention, sentence, predicted_sentence):\n",
        "    fig = plt.figure(figsize=(10, 10))\n",
        "    ax = fig.add_subplot(1,1,1)\n",
        "    ax.matshow(attention, cmap='viridis')\n",
        "    \n",
        "    fontdict = {'fontsize': 14}\n",
        "    ax.set_xticklabels([''] + sentence, fontdict=fontdict, rotation=90)\n",
        "    ax.set_yticklabels([''] + predicted_sentence, fontdict=fontdict)\n",
        "    plt.show()\n",
        "    "
      ],
      "execution_count": 0,
      "outputs": []
    },
    {
      "metadata": {
        "id": "KuJ-kThog-Zs",
        "colab_type": "code",
        "colab": {}
      },
      "cell_type": "code",
      "source": [
        "def translate(sentence):\n",
        "    result, sentence, attention_plot = evaluate(sentence)\n",
        "    \n",
        "    print('Input: {}'.format(sentence))\n",
        "    print('Predicted translation: {}'.format(result))\n",
        "    attention_plot = attention_plot[:len(result.split(' ')),\n",
        "                                    :len(sentence.split(' '))]\n",
        "    plot_attention(attention_plot, sentence.split(' '), result.split(' '))"
      ],
      "execution_count": 0,
      "outputs": []
    },
    {
      "metadata": {
        "id": "-Vh6zUfahao7",
        "colab_type": "code",
        "colab": {
          "base_uri": "https://localhost:8080/",
          "height": 677
        },
        "outputId": "861cca39-a806-485a-ed43-32eeaffacddb"
      },
      "cell_type": "code",
      "source": [
        "translate(u'wir lachen')"
      ],
      "execution_count": 32,
      "outputs": [
        {
          "output_type": "stream",
          "text": [
            "Input: <start> wir lachen <end>\n",
            "Predicted translation: we re losing . <end> \n"
          ],
          "name": "stdout"
        },
        {
          "output_type": "display_data",
          "data": {
            "image/png": "[encoded data removed]",
            "text/plain": [
              "<Figure size 720x720 with 1 Axes>"
            ]
          },
          "metadata": {
            "tags": []
          }
        }
      ]
    },
    {
      "metadata": {
        "id": "I2rkAhuihfeo",
        "colab_type": "code",
        "colab": {}
      },
      "cell_type": "code",
      "source": [
        ""
      ],
      "execution_count": 0,
      "outputs": []
    },
    {
      "metadata": {
        "id": "R1XMyDbckTWR",
        "colab_type": "code",
        "colab": {}
      },
      "cell_type": "code",
      "source": [
        ""
      ],
      "execution_count": 0,
      "outputs": []
    },
    {
      "metadata": {
        "id": "hM7BXCEYkr2i",
        "colab_type": "code",
        "colab": {}
      },
      "cell_type": "code",
      "source": [
        ""
      ],
      "execution_count": 0,
      "outputs": []
    },
    {
      "metadata": {
        "id": "5Jf48b96kt9z",
        "colab_type": "code",
        "colab": {}
      },
      "cell_type": "code",
      "source": [
        ""
      ],
      "execution_count": 0,
      "outputs": []
    }
  ]
}